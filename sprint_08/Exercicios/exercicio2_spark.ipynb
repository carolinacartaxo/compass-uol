{
 "cells": [
  {
   "cell_type": "code",
   "execution_count": 74,
   "metadata": {},
   "outputs": [],
   "source": [
    "from pyspark.sql import SparkSession\n",
    "from pyspark import SparkContext, SQLContext\n",
    "from pyspark.sql.functions import lit, rand, when, col, array, element_at\n",
    "import random"
   ]
  },
  {
   "cell_type": "code",
   "execution_count": 75,
   "metadata": {},
   "outputs": [],
   "source": [
    "# Inicializar SparkSession\n",
    "spark = SparkSession \\\n",
    "    .builder \\\n",
    "    .master(\"local[*]\") \\\n",
    "    .appName(\"Exercicio Intro\") \\\n",
    "    .getOrCreate()\n"
   ]
  },
  {
   "cell_type": "code",
   "execution_count": 76,
   "metadata": {},
   "outputs": [],
   "source": [
    "# Etapa 1 \n",
    "# Ler o arquivo nomes_aleatorios.txt\n",
    "df_nomes = spark.read.csv(\"nomes_aleatorios.txt\", header=False).withColumnRenamed(\"_c0\", \"Nomes\")\n"
   ]
  },
  {
   "cell_type": "code",
   "execution_count": 77,
   "metadata": {},
   "outputs": [
    {
     "name": "stdout",
     "output_type": "stream",
     "text": [
      "root\n",
      " |-- Nomes: string (nullable = true)\n",
      "\n",
      "+-----------------+\n",
      "|            Nomes|\n",
      "+-----------------+\n",
      "|   Frances Bennet|\n",
      "|    Jamie Russell|\n",
      "|   Edward Kistler|\n",
      "|    Sheila Maurer|\n",
      "| Donald Golightly|\n",
      "|       David Gray|\n",
      "|      Joy Bennett|\n",
      "|      Paul Kriese|\n",
      "|Berniece Ornellas|\n",
      "|    Brian Farrell|\n",
      "+-----------------+\n",
      "only showing top 10 rows\n",
      "\n"
     ]
    }
   ],
   "source": [
    "# Etapa 2\n",
    "#  Renomeando a primeira coluna do df para \"nomes\"\n",
    "df_nomes = df_nomes.withColumnRenamed(\"_c0\", \"Nomes\")\n",
    "\n",
    "# Verificar o schema após a renomeação\n",
    "df_nomes.printSchema()\n",
    "\n",
    "# Mostrar as primeiras 10 linhas do DataFrame renomeado\n",
    "df_nomes.show(10)\n"
   ]
  },
  {
   "cell_type": "code",
   "execution_count": 78,
   "metadata": {},
   "outputs": [
    {
     "name": "stdout",
     "output_type": "stream",
     "text": [
      "+-----------------+------------+\n",
      "|            Nomes|Escolaridade|\n",
      "+-----------------+------------+\n",
      "|   Frances Bennet| Fundamental|\n",
      "|    Jamie Russell|    Superior|\n",
      "|   Edward Kistler|       Medio|\n",
      "|    Sheila Maurer| Fundamental|\n",
      "| Donald Golightly|       Medio|\n",
      "|       David Gray|       Medio|\n",
      "|      Joy Bennett|       Medio|\n",
      "|      Paul Kriese|    Superior|\n",
      "|Berniece Ornellas| Fundamental|\n",
      "|    Brian Farrell|       Medio|\n",
      "+-----------------+------------+\n",
      "only showing top 10 rows\n",
      "\n"
     ]
    }
   ],
   "source": [
    "# Etapa 3\n",
    "# Lista de escolaridades\n",
    "escolaridades = [\"Fundamental\", \"Medio\", \"Superior\"]\n",
    "\n",
    "# Adicionar a coluna Escolaridade com valores aleatórios\n",
    "df_nomes = df_nomes.withColumn(\"Escolaridade\",\n",
    "                               when(rand() < 0.33, \"Fundamental\")\n",
    "                               .when(rand() < 0.66, \"Medio\")\n",
    "                               .otherwise(\"Superior\"))\n",
    "\n",
    "df_nomes.show(10)"
   ]
  },
  {
   "cell_type": "code",
   "execution_count": 79,
   "metadata": {},
   "outputs": [
    {
     "name": "stdout",
     "output_type": "stream",
     "text": [
      "+-----------------+------------+---------+\n",
      "|            Nomes|Escolaridade|     Pais|\n",
      "+-----------------+------------+---------+\n",
      "|   Frances Bennet| Fundamental|Argentina|\n",
      "|    Jamie Russell|    Superior|    Chile|\n",
      "|   Edward Kistler|       Medio|   Brasil|\n",
      "|    Sheila Maurer| Fundamental|   Brasil|\n",
      "| Donald Golightly|       Medio|Argentina|\n",
      "|       David Gray|       Medio|     Peru|\n",
      "|      Joy Bennett|       Medio|   Brasil|\n",
      "|      Paul Kriese|    Superior|   Brasil|\n",
      "|Berniece Ornellas| Fundamental|Argentina|\n",
      "|    Brian Farrell|       Medio|Argentina|\n",
      "+-----------------+------------+---------+\n",
      "only showing top 10 rows\n",
      "\n"
     ]
    }
   ],
   "source": [
    "# Etapa 4\n",
    "# Definir a lista de países\n",
    "paises = [\"Brasil\", \"Argentina\", \"Chile\", \"Peru\", \"Colombia\"]\n",
    "\n",
    "# Adicionar coluna de País com valores aleatórios\n",
    "df_nomes = df_nomes.withColumn(\"Pais\",\n",
    "                               when(rand() < 0.2, \"Brasil\")\n",
    "                               .when(rand() < 0.4, \"Argentina\")\n",
    "                               .when(rand() < 0.6, \"Chile\")\n",
    "                               .when(rand() < 0.8, \"Peru\")\n",
    "                               .otherwise(\"Colombia\"))\n",
    "\n",
    "# Mostrar as primeiras 10 linhas para verificar a distribuição\n",
    "df_nomes.show(10)"
   ]
  },
  {
   "cell_type": "code",
   "execution_count": 80,
   "metadata": {},
   "outputs": [
    {
     "name": "stdout",
     "output_type": "stream",
     "text": [
      "+-----------------+------------+---------+-------------+\n",
      "|            Nomes|Escolaridade|     Pais|AnoNascimento|\n",
      "+-----------------+------------+---------+-------------+\n",
      "|   Frances Bennet| Fundamental|Argentina|         1970|\n",
      "|    Jamie Russell|    Superior|    Chile|         1958|\n",
      "|   Edward Kistler|       Medio|   Brasil|         1977|\n",
      "|    Sheila Maurer| Fundamental|   Brasil|         1996|\n",
      "| Donald Golightly|       Medio|Argentina|         1980|\n",
      "|       David Gray|       Medio|     Peru|         1953|\n",
      "|      Joy Bennett|       Medio|   Brasil|         1962|\n",
      "|      Paul Kriese|    Superior|   Brasil|         1964|\n",
      "|Berniece Ornellas| Fundamental|Argentina|         1997|\n",
      "|    Brian Farrell|       Medio|Argentina|         1998|\n",
      "+-----------------+------------+---------+-------------+\n",
      "only showing top 10 rows\n",
      "\n"
     ]
    }
   ],
   "source": [
    "# Etapa 5\n",
    "# Adicionar coluna de Ano de Nascimento com valores aleatórios entre 1945 e 2010\n",
    "df_nomes = df_nomes.withColumn(\"AnoNascimento\", (rand() * (2010 - 1945) + 1945).cast(\"int\"))\n",
    "\n",
    "# Mostrar as primeiras 10 linhas do DataFrame atualizado\n",
    "df_nomes.show(10)"
   ]
  },
  {
   "cell_type": "code",
   "execution_count": 81,
   "metadata": {},
   "outputs": [
    {
     "name": "stdout",
     "output_type": "stream",
     "text": [
      "+--------------------+------------+---------+-------------+\n",
      "|               Nomes|Escolaridade|     Pais|AnoNascimento|\n",
      "+--------------------+------------+---------+-------------+\n",
      "|       Tracy Herring| Fundamental|   Brasil|         2004|\n",
      "|        Leroy Strahl|       Medio|   Brasil|         2008|\n",
      "|      Lorenzo Woodis| Fundamental|Argentina|         2005|\n",
      "|       Ricky Gilbert|    Superior|Argentina|         2006|\n",
      "|       Michael Agnew|       Medio|     Peru|         2003|\n",
      "|       George Miller|       Medio|   Brasil|         2009|\n",
      "|Christopher Williams|    Superior|Argentina|         2001|\n",
      "|           Ana Baker|       Medio|    Chile|         2005|\n",
      "|       Evelyn Shaver| Fundamental|     Peru|         2001|\n",
      "|         Shelia Ceja|    Superior|    Chile|         2008|\n",
      "+--------------------+------------+---------+-------------+\n",
      "only showing top 10 rows\n",
      "\n"
     ]
    }
   ],
   "source": [
    "# Etapa 6\n",
    "# Selecionar pessoas nascidas a partir do ano 2000 usando o select do dataframe\n",
    "df_select = df_nomes.filter(df_nomes.AnoNascimento >= 2000)\n",
    "\n",
    "# Mostrar as primeiras 10 linhas\n",
    "df_select.show(10)\n"
   ]
  },
  {
   "cell_type": "code",
   "execution_count": 82,
   "metadata": {},
   "outputs": [
    {
     "name": "stdout",
     "output_type": "stream",
     "text": [
      "+--------------------+------------+---------+-------------+\n",
      "|               Nomes|Escolaridade|     Pais|AnoNascimento|\n",
      "+--------------------+------------+---------+-------------+\n",
      "|       Tracy Herring| Fundamental|   Brasil|         2004|\n",
      "|        Leroy Strahl|       Medio|   Brasil|         2008|\n",
      "|      Lorenzo Woodis| Fundamental|Argentina|         2005|\n",
      "|       Ricky Gilbert|    Superior|Argentina|         2006|\n",
      "|       Michael Agnew|       Medio|     Peru|         2003|\n",
      "|       George Miller|       Medio|   Brasil|         2009|\n",
      "|Christopher Williams|    Superior|Argentina|         2001|\n",
      "|           Ana Baker|       Medio|    Chile|         2005|\n",
      "|       Evelyn Shaver| Fundamental|     Peru|         2001|\n",
      "|         Shelia Ceja|    Superior|    Chile|         2008|\n",
      "+--------------------+------------+---------+-------------+\n",
      "only showing top 10 rows\n",
      "\n"
     ]
    }
   ],
   "source": [
    "# Etapa 7\n",
    "# Registrar a tabela temporária\n",
    "df_nomes.createOrReplaceTempView(\"pessoas\")\n",
    "\n",
    "# Executar consulta SQL com o select SQL\n",
    "df_select_sql = spark.sql(\"SELECT * FROM pessoas WHERE AnoNascimento >= 2000\")\n",
    "\n",
    "# Mostrar as primeiras 10 linhas\n",
    "df_select_sql.show(10)\n"
   ]
  },
  {
   "cell_type": "code",
   "execution_count": 83,
   "metadata": {},
   "outputs": [
    {
     "name": "stderr",
     "output_type": "stream",
     "text": [
      "[Stage 75:>                                                         (0 + 8) / 8]\r"
     ]
    },
    {
     "name": "stdout",
     "output_type": "stream",
     "text": [
      "Total de pessoas da geração Millennials: 2310205\n"
     ]
    },
    {
     "name": "stderr",
     "output_type": "stream",
     "text": [
      "                                                                                \r"
     ]
    }
   ],
   "source": [
    "# Etapa 8\n",
    "# Filtrar e contar as pessoas da geração Millennials (nascidos entre 1980 e 1994) no dataset\n",
    "millennials_count = df_nomes.select(\"AnoNascimento\").filter((col(\"AnoNascimento\") >= 1980) & (col(\"AnoNascimento\") <= 1994)).count()\n",
    "\n",
    "# Exibir o resultado\n",
    "print(f\"Total de pessoas da geração Millennials: {millennials_count}\")"
   ]
  },
  {
   "cell_type": "code",
   "execution_count": 84,
   "metadata": {},
   "outputs": [
    {
     "name": "stdout",
     "output_type": "stream",
     "text": [
      "Total de pessoas da geração Millennials: 2310205\n"
     ]
    }
   ],
   "source": [
    "# Etapa 9\n",
    "# Registrar a tabela temporária\n",
    "df_nomes.createOrReplaceTempView(\"contagem\")\n",
    "\n",
    "# Executar a consulta SQL para contar as pessoas da geração Millennials\n",
    "millennials_count_sql = spark.sql(\"\"\"\n",
    "    SELECT COUNT(*) as Total\n",
    "    FROM contagem\n",
    "    WHERE AnoNascimento BETWEEN 1980 AND 1994\n",
    "\"\"\").collect()[0]['Total']\n",
    "\n",
    "# Exibir o resultado\n",
    "print(f\"Total de pessoas da geração Millennials: {millennials_count_sql}\")"
   ]
  },
  {
   "cell_type": "code",
   "execution_count": 85,
   "metadata": {},
   "outputs": [],
   "source": [
    "# Adicionar coluna de Geração usando a função `when`\n",
    "df_nomes = df_nomes.withColumn(\"Geracao\", \n",
    "                               when(col(\"AnoNascimento\").between(1944, 1964), \"Baby Boomers\")\n",
    "                               .when(col(\"AnoNascimento\").between(1965, 1979), \"Geração X\")\n",
    "                               .when(col(\"AnoNascimento\").between(1980, 1994), \"Millennials\")\n",
    "                               .when(col(\"AnoNascimento\").between(1995, 2015), \"Geração Z\"))\n"
   ]
  },
  {
   "cell_type": "code",
   "execution_count": 86,
   "metadata": {},
   "outputs": [
    {
     "name": "stderr",
     "output_type": "stream",
     "text": [
      "[Stage 81:>                                                         (0 + 8) / 8]\r"
     ]
    },
    {
     "name": "stdout",
     "output_type": "stream",
     "text": [
      "+---------+------------+----------+\n",
      "|Pais     |Geracao     |Quantidade|\n",
      "+---------+------------+----------+\n",
      "|Argentina|Baby Boomers|983132    |\n",
      "|Argentina|Geração X   |739076    |\n",
      "|Argentina|Geração Z   |737381    |\n",
      "|Argentina|Millennials |739438    |\n",
      "|Brasil   |Baby Boomers|614653    |\n",
      "|Brasil   |Geração X   |462387    |\n",
      "|Brasil   |Geração Z   |462209    |\n",
      "|Brasil   |Millennials |462478    |\n",
      "|Chile    |Baby Boomers|885751    |\n",
      "|Chile    |Geração X   |663869    |\n",
      "|Chile    |Geração Z   |663621    |\n",
      "|Chile    |Millennials |665801    |\n",
      "|Colombia |Baby Boomers|118434    |\n",
      "|Colombia |Geração X   |88797     |\n",
      "|Colombia |Geração Z   |88192     |\n",
      "|Colombia |Millennials |88253     |\n",
      "|Peru     |Baby Boomers|472947    |\n",
      "|Peru     |Geração X   |354057    |\n",
      "|Peru     |Geração Z   |355289    |\n",
      "|Peru     |Millennials |354235    |\n",
      "+---------+------------+----------+\n",
      "\n"
     ]
    },
    {
     "name": "stderr",
     "output_type": "stream",
     "text": [
      "                                                                                \r"
     ]
    }
   ],
   "source": [
    "# Registrar a tabela temporária com o nome \"geracao\"\n",
    "df_nomes.createOrReplaceTempView(\"geracao\")\n",
    "\n",
    "# Executar a consulta SQL para agrupar os dados por País e Geracao e contar as ocorrências\n",
    "resultado = spark.sql(\"\"\"\n",
    "    SELECT \n",
    "        Pais,\n",
    "        Geracao,\n",
    "        COUNT(*) as Quantidade\n",
    "    FROM geracao\n",
    "    GROUP BY Pais, Geracao\n",
    "    ORDER BY Pais ASC, Geracao ASC\n",
    "\"\"\")\n",
    "\n",
    "\n",
    "# Mostrar o resultado\n",
    "resultado.show(50, truncate=False)\n"
   ]
  }
 ],
 "metadata": {
  "kernelspec": {
   "display_name": "Python 3.9.12 ('base')",
   "language": "python",
   "name": "python3"
  },
  "language_info": {
   "codemirror_mode": {
    "name": "ipython",
    "version": 3
   },
   "file_extension": ".py",
   "mimetype": "text/x-python",
   "name": "python",
   "nbconvert_exporter": "python",
   "pygments_lexer": "ipython3",
   "version": "3.9.12"
  },
  "orig_nbformat": 4,
  "vscode": {
   "interpreter": {
    "hash": "7260f51a074723c69f59b99b66f10f76e1e2022a454bcb7952b9f2ca71e02ae0"
   }
  }
 },
 "nbformat": 4,
 "nbformat_minor": 2
}
